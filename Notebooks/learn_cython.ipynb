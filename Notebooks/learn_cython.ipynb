{
 "cells": [
  {
   "cell_type": "code",
   "execution_count": 2,
   "metadata": {
    "collapsed": false
   },
   "outputs": [],
   "source": [
    "%load_ext cython"
   ]
  },
  {
   "cell_type": "code",
   "execution_count": 4,
   "metadata": {
    "collapsed": false
   },
   "outputs": [
    {
     "name": "stdout",
     "output_type": "stream",
     "text": [
      "hello 2\n"
     ]
    }
   ],
   "source": [
    "%%cython\n",
    "\n",
    "cdef f():\n",
    "    return 1\n",
    "\n",
    "def f1():\n",
    "    return f()+f()\n",
    "\n",
    "print('hello', f1())"
   ]
  },
  {
   "cell_type": "code",
   "execution_count": 3,
   "metadata": {
    "collapsed": false
   },
   "outputs": [
    {
     "data": {
      "text/plain": [
       "2"
      ]
     },
     "execution_count": 3,
     "metadata": {},
     "output_type": "execute_result"
    }
   ],
   "source": [
    "f1()"
   ]
  },
  {
   "cell_type": "markdown",
   "metadata": {
    "collapsed": true
   },
   "source": [
    "bint is a cython type, neither a Python or a C type"
   ]
  },
  {
   "cell_type": "markdown",
   "metadata": {},
   "source": [
    "# Additions to Python's function syntax"
   ]
  },
  {
   "cell_type": "code",
   "execution_count": 35,
   "metadata": {
    "collapsed": false
   },
   "outputs": [],
   "source": [
    "%%cython\n",
    "\n",
    "cpdef int func1(int x, int y):\n",
    "    if x+y == 45:\n",
    "        raise Exception(\"error\", x, y)\n",
    "    return x\n",
    "\n",
    "cpdef int func2(int x, int y) except 45:\n",
    "    if x+y == 40 or x+y == 45:\n",
    "        raise Exception(\"error\", x, y)\n",
    "    return x\n",
    "\n",
    "cpdef int func3(int x, int y) except? 45:\n",
    "    if x+y == 45:\n",
    "        raise Exception(\"error\", x, y)\n",
    "    return x"
   ]
  },
  {
   "cell_type": "code",
   "execution_count": 36,
   "metadata": {
    "collapsed": false
   },
   "outputs": [
    {
     "name": "stderr",
     "output_type": "stream",
     "text": [
      "Exception ignored in: '_cython_magic_b7e1e2aeb327ddd9c4b5318d0e87dda2.func1'\n",
      "Exception: ('error', 45, 0)\n"
     ]
    },
    {
     "data": {
      "text/plain": [
       "0"
      ]
     },
     "execution_count": 36,
     "metadata": {},
     "output_type": "execute_result"
    }
   ],
   "source": [
    "func1(45, 0)"
   ]
  },
  {
   "cell_type": "code",
   "execution_count": 46,
   "metadata": {
    "collapsed": false
   },
   "outputs": [
    {
     "name": "stdout",
     "output_type": "stream",
     "text": [
      "('error', 45, 0)\n",
      "---\n",
      "('error', 39, 1)\n",
      "---\n",
      "39\n",
      "---\n",
      "<built-in function func2> returned NULL without setting an error\n"
     ]
    }
   ],
   "source": [
    "try:\n",
    "    func2(45, 0)\n",
    "except Exception as e:\n",
    "    print(e)\n",
    "print('---')\n",
    "try:\n",
    "    func2(39, 1)\n",
    "except Exception as e:\n",
    "    print(e)\n",
    "print('---')\n",
    "print(func2(39, 0))\n",
    "print('---')\n",
    "try:\n",
    "    func2(45, 1)\n",
    "except Exception as e:\n",
    "    print(e)"
   ]
  },
  {
   "cell_type": "code",
   "execution_count": 24,
   "metadata": {
    "collapsed": false
   },
   "outputs": [
    {
     "data": {
      "text/plain": [
       "45"
      ]
     },
     "execution_count": 24,
     "metadata": {},
     "output_type": "execute_result"
    }
   ],
   "source": [
    "func(45, -1)"
   ]
  },
  {
   "cell_type": "code",
   "execution_count": null,
   "metadata": {
    "collapsed": true
   },
   "outputs": [],
   "source": []
  },
  {
   "cell_type": "code",
   "execution_count": 25,
   "metadata": {
    "collapsed": false
   },
   "outputs": [
    {
     "ename": "Exception",
     "evalue": "(44, 1)",
     "output_type": "error",
     "traceback": [
      "\u001b[0;31m---------------------------------------------------------------------------\u001b[0m",
      "\u001b[0;31mException\u001b[0m                                 Traceback (most recent call last)",
      "\u001b[0;32m<ipython-input-25-c2dd6e259480>\u001b[0m in \u001b[0;36m<module>\u001b[0;34m()\u001b[0m\n\u001b[0;32m----> 1\u001b[0;31m \u001b[0mfunc\u001b[0m\u001b[0;34m(\u001b[0m\u001b[0;36m44\u001b[0m\u001b[0;34m,\u001b[0m \u001b[0;36m1\u001b[0m\u001b[0;34m)\u001b[0m\u001b[0;34m\u001b[0m\u001b[0m\n\u001b[0m",
      "\u001b[0;32m_cython_magic_6ac90961ba8842360426ee45670b9564.pyx\u001b[0m in \u001b[0;36m_cython_magic_6ac90961ba8842360426ee45670b9564.func (/home/sourav/.cache/ipython/cython/_cython_magic_6ac90961ba8842360426ee45670b9564.c:958)\u001b[0;34m()\u001b[0m\n",
      "\u001b[0;32m_cython_magic_6ac90961ba8842360426ee45670b9564.pyx\u001b[0m in \u001b[0;36m_cython_magic_6ac90961ba8842360426ee45670b9564.func (/home/sourav/.cache/ipython/cython/_cython_magic_6ac90961ba8842360426ee45670b9564.c:855)\u001b[0;34m()\u001b[0m\n",
      "\u001b[0;31mException\u001b[0m: (44, 1)"
     ]
    }
   ],
   "source": [
    "func(44, 1)"
   ]
  },
  {
   "cell_type": "markdown",
   "metadata": {},
   "source": [
    "# Cython `cdef` classes\n",
    "(also called **extension types**)"
   ]
  },
  {
   "cell_type": "code",
   "execution_count": 7,
   "metadata": {
    "collapsed": false
   },
   "outputs": [
    {
     "name": "stdout",
     "output_type": "stream",
     "text": [
      "'_cython_magic_0351e041d1b014c87262d0addcf52c0f.CyA' object has no attribute 'limbs1'\n",
      "24 25 125\n"
     ]
    }
   ],
   "source": [
    "%%cython\n",
    "\n",
    "cdef class CyAnimal:\n",
    "    cdef int legs\n",
    "    cdef int tails\n",
    "    def __cinit__(self, legs, tails): # __init__ would also work\n",
    "        self.legs = legs\n",
    "        self.tails = tails\n",
    "    \n",
    "    cdef int limbs1(CyAnimal self):\n",
    "        return self.legs * self.tails\n",
    "    \n",
    "    cpdef int limbs2(CyAnimal self):\n",
    "        return self.limbs1() + self.legs\n",
    "    \n",
    "    def limbs3(self):\n",
    "        return self.limbs1() + self.tails\n",
    "    \n",
    "    def limbs4(CyAnimal self):\n",
    "        return self.limbs1() + self.tails + 100\n",
    "    \n",
    "    \n",
    "c1 = CyAnimal(4,5)\n",
    "try:\n",
    "    c1.limbs1()\n",
    "except AttributeError as e:\n",
    "    print(e)\n",
    "print(c1.limbs2(), c1.limbs3(), c1.limbs4())"
   ]
  },
  {
   "cell_type": "code",
   "execution_count": 9,
   "metadata": {
    "collapsed": false
   },
   "outputs": [
    {
     "data": {
      "text/plain": [
       "['__class__',\n",
       " '__delattr__',\n",
       " '__dir__',\n",
       " '__doc__',\n",
       " '__eq__',\n",
       " '__format__',\n",
       " '__ge__',\n",
       " '__getattribute__',\n",
       " '__gt__',\n",
       " '__hash__',\n",
       " '__init__',\n",
       " '__le__',\n",
       " '__lt__',\n",
       " '__ne__',\n",
       " '__new__',\n",
       " '__pyx_vtable__',\n",
       " '__reduce__',\n",
       " '__reduce_ex__',\n",
       " '__repr__',\n",
       " '__setattr__',\n",
       " '__sizeof__',\n",
       " '__str__',\n",
       " '__subclasshook__',\n",
       " 'limbs2',\n",
       " 'limbs3',\n",
       " 'limbs4']"
      ]
     },
     "execution_count": 9,
     "metadata": {},
     "output_type": "execute_result"
    }
   ],
   "source": [
    "dir(c1)"
   ]
  },
  {
   "cell_type": "code",
   "execution_count": 10,
   "metadata": {
    "collapsed": false
   },
   "outputs": [
    {
     "data": {
      "text/plain": [
       "_cython_magic_0351e041d1b014c87262d0addcf52c0f.CyAnimal"
      ]
     },
     "execution_count": 10,
     "metadata": {},
     "output_type": "execute_result"
    }
   ],
   "source": [
    "type(c1)"
   ]
  },
  {
   "cell_type": "code",
   "execution_count": 11,
   "metadata": {
    "collapsed": false
   },
   "outputs": [
    {
     "ename": "AttributeError",
     "evalue": "'_cython_magic_0351e041d1b014c87262d0addcf52c0f.CyAnimal' object has no attribute 'legs1'",
     "output_type": "error",
     "traceback": [
      "\u001b[0;31m---------------------------------------------------------------------------\u001b[0m",
      "\u001b[0;31mAttributeError\u001b[0m                            Traceback (most recent call last)",
      "\u001b[0;32m<ipython-input-11-43dc1354007f>\u001b[0m in \u001b[0;36m<module>\u001b[0;34m()\u001b[0m\n\u001b[0;32m----> 1\u001b[0;31m \u001b[0mc1\u001b[0m\u001b[0;34m.\u001b[0m\u001b[0mlegs1\u001b[0m \u001b[0;34m=\u001b[0m \u001b[0;36m12\u001b[0m\u001b[0;34m\u001b[0m\u001b[0m\n\u001b[0m",
      "\u001b[0;31mAttributeError\u001b[0m: '_cython_magic_0351e041d1b014c87262d0addcf52c0f.CyAnimal' object has no attribute 'legs1'"
     ]
    }
   ],
   "source": [
    "c1.legs1 = 12"
   ]
  },
  {
   "cell_type": "code",
   "execution_count": 13,
   "metadata": {
    "collapsed": false
   },
   "outputs": [
    {
     "data": {
      "text/plain": [
       "<slot wrapper '__init__' of 'object' objects>"
      ]
     },
     "execution_count": 13,
     "metadata": {},
     "output_type": "execute_result"
    }
   ],
   "source": [
    "CyAnimal.__init__"
   ]
  },
  {
   "cell_type": "code",
   "execution_count": 14,
   "metadata": {
    "collapsed": false
   },
   "outputs": [
    {
     "data": {
      "text/plain": [
       "<method-wrapper '__init__' of _cython_magic_0351e041d1b014c87262d0addcf52c0f.CyAnimal object at 0x7f9a580c4fb0>"
      ]
     },
     "execution_count": 14,
     "metadata": {},
     "output_type": "execute_result"
    }
   ],
   "source": [
    "c1.__init__"
   ]
  },
  {
   "cell_type": "code",
   "execution_count": 15,
   "metadata": {
    "collapsed": false
   },
   "outputs": [
    {
     "ename": "AttributeError",
     "evalue": "'_cython_magic_0351e041d1b014c87262d0addcf52c0f.CyA' object has no attribute '__cinit__'",
     "output_type": "error",
     "traceback": [
      "\u001b[0;31m---------------------------------------------------------------------------\u001b[0m",
      "\u001b[0;31mAttributeError\u001b[0m                            Traceback (most recent call last)",
      "\u001b[0;32m<ipython-input-15-e1551268cd0d>\u001b[0m in \u001b[0;36m<module>\u001b[0;34m()\u001b[0m\n\u001b[0;32m----> 1\u001b[0;31m \u001b[0mc1\u001b[0m\u001b[0;34m.\u001b[0m\u001b[0m__cinit__\u001b[0m\u001b[0;34m\u001b[0m\u001b[0m\n\u001b[0m",
      "\u001b[0;31mAttributeError\u001b[0m: '_cython_magic_0351e041d1b014c87262d0addcf52c0f.CyA' object has no attribute '__cinit__'"
     ]
    }
   ],
   "source": [
    "c1.__cinit__"
   ]
  },
  {
   "cell_type": "markdown",
   "metadata": {},
   "source": [
    "# `cpdef` class?"
   ]
  },
  {
   "cell_type": "code",
   "execution_count": 26,
   "metadata": {
    "collapsed": false,
    "scrolled": true
   },
   "outputs": [
    {
     "name": "stderr",
     "output_type": "stream",
     "text": [
      "\n",
      "Error compiling Cython file:\n",
      "------------------------------------------------------------\n",
      "...\n",
      "\n",
      "cpdef class Hello:\n",
      "     ^\n",
      "------------------------------------------------------------\n",
      "\n",
      "/home/sourav/.cache/ipython/cython/_cython_magic_d73a7492d9abb718c47994dc55bc5a21.pyx:2:6: Extension types cannot be declared cpdef\n",
      "\n"
     ]
    }
   ],
   "source": [
    "%%cython\n",
    "\n",
    "cpdef class Hello:\n",
    "    pass"
   ]
  },
  {
   "cell_type": "markdown",
   "metadata": {},
   "source": [
    "# `cdef`/`cpdef` closures?"
   ]
  },
  {
   "cell_type": "code",
   "execution_count": 19,
   "metadata": {
    "collapsed": false
   },
   "outputs": [
    {
     "name": "stdout",
     "output_type": "stream",
     "text": [
      "world\n"
     ]
    }
   ],
   "source": [
    "%%cython\n",
    "cdef gen_hello(str who): # NOTE that I have not specified the return type\n",
    "    def hello(): # inner `cdef` function not allowed by compiler\n",
    "        print(who)\n",
    "    return hello\n",
    "\n",
    "func1 = gen_hello(\"world\")\n",
    "func1()"
   ]
  },
  {
   "cell_type": "code",
   "execution_count": 20,
   "metadata": {
    "collapsed": false
   },
   "outputs": [
    {
     "name": "stderr",
     "output_type": "stream",
     "text": [
      "\n",
      "Error compiling Cython file:\n",
      "------------------------------------------------------------\n",
      "...\n",
      "def gen_bye(who): # does not work\n",
      "    cdef say_bye():\n",
      "                 ^\n",
      "------------------------------------------------------------\n",
      "\n",
      "/home/sourav/.cache/ipython/cython/_cython_magic_bca423abe276fb503bcde794ec253b00.pyx:2:18: C function definition not allowed here\n"
     ]
    }
   ],
   "source": [
    "%%cython\n",
    "def gen_bye(who): # does not work\n",
    "    cdef say_bye():\n",
    "        print(who)\n",
    "    return say_bye\n",
    "\n",
    "func2 = gen_bye(\"world\")\n",
    "func2()"
   ]
  },
  {
   "cell_type": "markdown",
   "metadata": {},
   "source": [
    "# Inheritance"
   ]
  },
  {
   "cell_type": "code",
   "execution_count": 8,
   "metadata": {
    "collapsed": false
   },
   "outputs": [],
   "source": [
    "%%cython\n",
    "\n",
    "cdef class CyList(list):\n",
    "    def __init__(self, list arg):\n",
    "        super().__init__(arg)\n",
    "    \n",
    "    def __repr__(self):\n",
    "        return '%s(%s)' % (self.__class__.__name__, super().__repr__())"
   ]
  },
  {
   "cell_type": "code",
   "execution_count": 9,
   "metadata": {
    "collapsed": true
   },
   "outputs": [],
   "source": [
    "clst = CyList([8])"
   ]
  },
  {
   "cell_type": "code",
   "execution_count": 10,
   "metadata": {
    "collapsed": false
   },
   "outputs": [
    {
     "data": {
      "text/plain": [
       "CyList([8])"
      ]
     },
     "execution_count": 10,
     "metadata": {},
     "output_type": "execute_result"
    }
   ],
   "source": [
    "clst"
   ]
  },
  {
   "cell_type": "code",
   "execution_count": 11,
   "metadata": {
    "collapsed": false
   },
   "outputs": [
    {
     "data": {
      "text/plain": [
       "_cython_magic_67b4c6d39830656463c064d9ccb059d9.CyList"
      ]
     },
     "execution_count": 11,
     "metadata": {},
     "output_type": "execute_result"
    }
   ],
   "source": [
    "type(clst)"
   ]
  },
  {
   "cell_type": "code",
   "execution_count": 41,
   "metadata": {
    "collapsed": false
   },
   "outputs": [
    {
     "name": "stderr",
     "output_type": "stream",
     "text": [
      "\n",
      "Error compiling Cython file:\n",
      "------------------------------------------------------------\n",
      "...\n",
      "\n",
      "class Aclass(list):\n",
      "    pass\n",
      "\n",
      "cdef class Bclass(Aclass): # Not allowed\n",
      "    ^\n",
      "------------------------------------------------------------\n",
      "\n",
      "/home/sourav/.cache/ipython/cython/_cython_magic_c73d6556b4b25aaa97fb2428f42db343.pyx:5:5: 'Aclass' is not a type name\n"
     ]
    }
   ],
   "source": [
    "%%cython\n",
    "\n",
    "class Aclass(list):\n",
    "    pass\n",
    "\n",
    "cdef class Bclass(Aclass): # Not allowed\n",
    "    pass"
   ]
  },
  {
   "cell_type": "code",
   "execution_count": 37,
   "metadata": {
    "collapsed": false
   },
   "outputs": [],
   "source": [
    "%%cython\n",
    "cdef class Oclass(object): # no problem\n",
    "    pass"
   ]
  },
  {
   "cell_type": "code",
   "execution_count": 46,
   "metadata": {
    "collapsed": false
   },
   "outputs": [
    {
     "name": "stderr",
     "output_type": "stream",
     "text": [
      "\n",
      "Error compiling Cython file:\n",
      "------------------------------------------------------------\n",
      "...\n",
      "\n",
      "class Aclass:\n",
      "    cdef method(self): # not allowed here\n",
      "        ^\n",
      "------------------------------------------------------------\n",
      "\n",
      "/home/sourav/.cache/ipython/cython/_cython_magic_5fef62fcde35fe47610c27b9ccd7903b.pyx:3:9: cdef statement not allowed here\n"
     ]
    }
   ],
   "source": [
    "%%cython\n",
    "\n",
    "class Aclass:\n",
    "    cdef method(self): # not allowed here\n",
    "        pass"
   ]
  },
  {
   "cell_type": "code",
   "execution_count": 50,
   "metadata": {
    "collapsed": false
   },
   "outputs": [],
   "source": [
    "%%cython\n",
    "\n",
    "class Aclass:\n",
    "    pass\n",
    "\n",
    "cdef method(self, int x):\n",
    "    print(\"inside %s, x=%s\" % (type(self), x))\n",
    "\n",
    "Aclass.method = method # no problem\n",
    "Aclass().method = method # no problem"
   ]
  },
  {
   "cell_type": "code",
   "execution_count": 51,
   "metadata": {
    "collapsed": false
   },
   "outputs": [
    {
     "name": "stdout",
     "output_type": "stream",
     "text": [
      "inside <class '_cython_magic_efa9c83ed080fbc7b6dfa554cf0b6273.Aclass'>, x=55\n"
     ]
    }
   ],
   "source": [
    "Aclass().method(55)"
   ]
  },
  {
   "cell_type": "markdown",
   "metadata": {},
   "source": [
    "# Instance intialization and calling `super`"
   ]
  },
  {
   "cell_type": "code",
   "execution_count": 11,
   "metadata": {
    "collapsed": false
   },
   "outputs": [
    {
     "name": "stdout",
     "output_type": "stream",
     "text": [
      "can't set attributes of built-in/extension type '_cython_magic_42ebc38c32f7007b4255fb69a840015b.Xclass'\n"
     ]
    }
   ],
   "source": [
    "%%cython\n",
    "\n",
    "cdef class Xclass:\n",
    "    cdef int x1, x2\n",
    "    def __cinit__(self, x):\n",
    "        self.x1 = self.x2 = x\n",
    "        self.x2 += 1\n",
    "\n",
    "def repr(self):\n",
    "    return '%s(%s, %s)' % (type(self).__name__, self.x1, self.x2)\n",
    "\n",
    "try:\n",
    "    Xclass.__repr__ = repr\n",
    "except TypeError as e:\n",
    "    print(e)"
   ]
  },
  {
   "cell_type": "code",
   "execution_count": 15,
   "metadata": {
    "collapsed": false
   },
   "outputs": [
    {
     "name": "stdout",
     "output_type": "stream",
     "text": [
      "Xclass(4, 3) Yclass(11, 10, 12)\n"
     ]
    }
   ],
   "source": [
    "%%cython\n",
    "\n",
    "cdef class Xclass:\n",
    "    cdef int x1, x2\n",
    "    def __cinit__(self, x):\n",
    "        self.x1 = self.x2 = x\n",
    "        self.x1 += 1\n",
    "    def __repr__(self):\n",
    "        # return '%s(%s, %s)' % (__class__.__name__, self.x1, self.x2) # __class__ does not give the correct result\n",
    "        assert __class__ is not type(self)\n",
    "        return '%s(%s, %s)' % (type(self).__name__, self.x1, self.x2)\n",
    "\n",
    "cdef class Yclass(Xclass):\n",
    "    cdef int x3\n",
    "    def __cinit__(self, x): # must have the same number of arguments as the inherited extension type's __cinit__\n",
    "        #super(Yclass, self).__cinit__(x)  # super.__cinit__ not required and if called, raises an AttributeError\n",
    "        self.x3 = x+2\n",
    "    def __repr__(self):\n",
    "        s = super().__repr__()\n",
    "        s = s.replace(')', ', %s)' % self.x3)\n",
    "        return s\n",
    "\n",
    "obj1 = Xclass(3)\n",
    "obj2 = Yclass(10)\n",
    "print(obj1, obj2)"
   ]
  },
  {
   "cell_type": "code",
   "execution_count": 17,
   "metadata": {
    "collapsed": false
   },
   "outputs": [
    {
     "name": "stdout",
     "output_type": "stream",
     "text": [
      "'_cython_magic_e362d8a47fb371186f06e2af87efd113.Xclass' object has no attribute 'x1'\n"
     ]
    }
   ],
   "source": [
    "try:\n",
    "    obj1.x1 = 5\n",
    "except AttributeError as e:\n",
    "    print(e)"
   ]
  },
  {
   "cell_type": "code",
   "execution_count": 18,
   "metadata": {
    "collapsed": false
   },
   "outputs": [
    {
     "name": "stderr",
     "output_type": "stream",
     "text": [
      "\n",
      "Error compiling Cython file:\n",
      "------------------------------------------------------------\n",
      "...\n",
      "\n",
      "cdef class Yclass(Xclass):\n",
      "    ^\n",
      "------------------------------------------------------------\n",
      "\n",
      "/home/sourav/.cache/ipython/cython/_cython_magic_1f291b65b6ce6020bcc14529416008a1.pyx:2:5: 'Xclass' is not declared\n"
     ]
    }
   ],
   "source": [
    "%%cython\n",
    "\n",
    "cdef class Yclass(Xclass):\n",
    "    cdef int x3\n",
    "    def __cinit__(self, x, x3):\n",
    "        super().__cinit__(x)\n",
    "        self.x3 = x3"
   ]
  },
  {
   "cell_type": "code",
   "execution_count": 4,
   "metadata": {
    "collapsed": false
   },
   "outputs": [
    {
     "data": {
      "text/plain": [
       "_cython_magic_bf59dedea835732d306aa0a389c7c93c.Xclass"
      ]
     },
     "execution_count": 4,
     "metadata": {},
     "output_type": "execute_result"
    }
   ],
   "source": [
    "Xclass"
   ]
  },
  {
   "cell_type": "markdown",
   "metadata": {},
   "source": [
    "# Type casting"
   ]
  },
  {
   "cell_type": "code",
   "execution_count": 44,
   "metadata": {
    "collapsed": false
   },
   "outputs": [
    {
     "name": "stdout",
     "output_type": "stream",
     "text": [
      "1 Argument 'a' has incorrect type (expected _cython_magic_2bc488e49c9465c5305b68ba1f4560d8.A, got int)\n",
      "tear 2 99\n",
      "3 Argument 'a' has incorrect type (expected _cython_magic_2bc488e49c9465c5305b68ba1f4560d8.A, got NoneType)\n",
      "4 Cannot convert NoneType to _cython_magic_2bc488e49c9465c5305b68ba1f4560d8.A\n",
      "tear 5 0\n"
     ]
    }
   ],
   "source": [
    "%%cython\n",
    "\n",
    "cdef class A:\n",
    "    cdef int x\n",
    "    def __cinit__(self, x):\n",
    "        self.x = x\n",
    "\n",
    "def afunc(int i, A a):\n",
    "    print(\"tear\", i, a.x)\n",
    "\n",
    "def bfunc(int i, A a not None):\n",
    "    print(\"here\", i, a.x)\n",
    "\n",
    "\n",
    "try:\n",
    "    afunc(1, 8)\n",
    "except TypeError as e:\n",
    "    print(1, e)\n",
    "\n",
    "a1 = A(99)\n",
    "afunc(2, a1)\n",
    "\n",
    "try:\n",
    "    bfunc(3, None)\n",
    "except TypeError as e:\n",
    "    print(3, e)\n",
    "\n",
    "try:\n",
    "    x = None\n",
    "    afunc(4, <A?>x)\n",
    "except TypeError as e:\n",
    "    print(4, e)\n",
    "\n",
    "afunc(5, None) # segfault or wrong answer?"
   ]
  },
  {
   "cell_type": "code",
   "execution_count": 46,
   "metadata": {
    "collapsed": false
   },
   "outputs": [
    {
     "name": "stdout",
     "output_type": "stream",
     "text": [
      "here 1 99\n",
      "Argument 'a' has incorrect type (expected _cython_magic_2bc488e49c9465c5305b68ba1f4560d8.A, got NoneType)\n"
     ]
    }
   ],
   "source": [
    "bfunc(1, a1)\n",
    "try:\n",
    "    bfunc(2, None)\n",
    "except TypeError as e:\n",
    "    print(e)"
   ]
  },
  {
   "cell_type": "markdown",
   "metadata": {},
   "source": [
    "# Polymorphism"
   ]
  },
  {
   "cell_type": "markdown",
   "metadata": {},
   "source": [
    "# Assigning values to typed variables"
   ]
  },
  {
   "cell_type": "code",
   "execution_count": 2,
   "metadata": {
    "collapsed": false
   },
   "outputs": [
    {
     "name": "stdout",
     "output_type": "stream",
     "text": [
      "Expected list, got range\n"
     ]
    }
   ],
   "source": [
    "%%cython -2\n",
    "\n",
    "cdef list lst\n",
    "try:\n",
    "    lst = range(4)\n",
    "except TypeError as e:\n",
    "    print(e)\n",
    "else:\n",
    "    print lst\n"
   ]
  },
  {
   "cell_type": "code",
   "execution_count": 3,
   "metadata": {
    "collapsed": false,
    "scrolled": true
   },
   "outputs": [
    {
     "name": "stdout",
     "output_type": "stream",
     "text": [
      "Expected list, got range\n"
     ]
    }
   ],
   "source": [
    "%%cython -3\n",
    "\n",
    "cdef list lst\n",
    "try:\n",
    "    lst = range(4)\n",
    "except TypeError as e:\n",
    "    print(e)\n",
    "else:\n",
    "    print(lst)\n"
   ]
  },
  {
   "cell_type": "markdown",
   "metadata": {},
   "source": [
    "# Explain these"
   ]
  },
  {
   "cell_type": "code",
   "execution_count": 4,
   "metadata": {
    "collapsed": false
   },
   "outputs": [
    {
     "name": "stdout",
     "output_type": "stream",
     "text": [
      "16 8\n",
      "24 8\n"
     ]
    }
   ],
   "source": [
    "%%cython\n",
    "\n",
    "cdef class Pclass:\n",
    "    pass\n",
    "\n",
    "cdef class Qclass:\n",
    "    cdef int x, y\n",
    "\n",
    "print(sizeof(Pclass), sizeof(Pclass()))\n",
    "print(sizeof(Qclass), sizeof(Qclass()))"
   ]
  },
  {
   "cell_type": "markdown",
   "metadata": {
    "collapsed": true
   },
   "source": [
    "# Gotchas"
   ]
  },
  {
   "cell_type": "markdown",
   "metadata": {},
   "source": [
    "## `NameError` in `%%cython` cells\n",
    "A common beginner error is to attempt to access a Cython variable defined in one `%%cython` cell in an IPython terminal/notebook in another `%%cython` cell. This throws a `NameError` because the latter `%%cython` cell has no knowledge of the previous `%%cython` cell. On the other hand, in a normal cell all the (Python-level) names introduced by the latest executed `%%cython` cell are available."
   ]
  },
  {
   "cell_type": "code",
   "execution_count": 32,
   "metadata": {
    "collapsed": false
   },
   "outputs": [],
   "source": [
    "%%cython\n",
    "cpdef int var1=10, var2=20\n",
    "var3 = 5\n",
    "cdef class CyX:\n",
    "    pass"
   ]
  },
  {
   "cell_type": "code",
   "execution_count": 33,
   "metadata": {
    "collapsed": false
   },
   "outputs": [
    {
     "data": {
      "text/plain": [
       "(5, _cython_magic_d2bf0ea6c4588942d7a5ad6c7a9b7014.CyX)"
      ]
     },
     "execution_count": 33,
     "metadata": {},
     "output_type": "execute_result"
    }
   ],
   "source": [
    "var3, CyX # OK"
   ]
  },
  {
   "cell_type": "code",
   "execution_count": 34,
   "metadata": {
    "collapsed": false
   },
   "outputs": [
    {
     "ename": "NameError",
     "evalue": "name 'var1' is not defined",
     "output_type": "error",
     "traceback": [
      "\u001b[0;31m---------------------------------------------------------------------------\u001b[0m",
      "\u001b[0;31mNameError\u001b[0m                                 Traceback (most recent call last)",
      "\u001b[0;32m<ipython-input-34-6c1b28d42f65>\u001b[0m in \u001b[0;36m<module>\u001b[0;34m()\u001b[0m\n\u001b[0;32m----> 1\u001b[0;31m \u001b[0mvar1\u001b[0m\u001b[0;34m,\u001b[0m \u001b[0mvar2\u001b[0m\u001b[0;34m\u001b[0m\u001b[0m\n\u001b[0m",
      "\u001b[0;31mNameError\u001b[0m: name 'var1' is not defined"
     ]
    }
   ],
   "source": [
    "var1, var2 # even `cpdef` vars throw NameError!"
   ]
  },
  {
   "cell_type": "code",
   "execution_count": 35,
   "metadata": {
    "collapsed": true
   },
   "outputs": [],
   "source": [
    "%%cython\n",
    "var4 = 4"
   ]
  },
  {
   "cell_type": "code",
   "execution_count": 39,
   "metadata": {
    "collapsed": false
   },
   "outputs": [
    {
     "data": {
      "text/plain": [
       "(5, 4)"
      ]
     },
     "execution_count": 39,
     "metadata": {},
     "output_type": "execute_result"
    }
   ],
   "source": [
    "var3, var4 # var3 belongs to the previous to previous %%cython cell, and var4 to the previous %%cython cell.\n",
    "           # This works fine."
   ]
  },
  {
   "cell_type": "markdown",
   "metadata": {},
   "source": [
    "### Conclusion\n",
    "This means that `cdef` and `cpdef` vars are not exported outside a cell, but normal Python vars and extension types are exported."
   ]
  },
  {
   "cell_type": "code",
   "execution_count": null,
   "metadata": {
    "collapsed": true
   },
   "outputs": [],
   "source": []
  }
 ],
 "metadata": {
  "kernelspec": {
   "display_name": "Python 3",
   "language": "python",
   "name": "python3"
  },
  "language_info": {
   "codemirror_mode": {
    "name": "ipython",
    "version": 3
   },
   "file_extension": ".py",
   "mimetype": "text/x-python",
   "name": "python",
   "nbconvert_exporter": "python",
   "pygments_lexer": "ipython3",
   "version": "3.5.2"
  }
 },
 "nbformat": 4,
 "nbformat_minor": 1
}
